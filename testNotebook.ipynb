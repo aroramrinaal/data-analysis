{
 "cells": [
  {
   "cell_type": "code",
   "execution_count": null,
   "metadata": {},
   "outputs": [],
   "source": [
    "import pandas as pd\n",
    "\n",
    "oo = pd.read_csv('data/olympics.csv',skiprows=4)\n",
    "oo"
   ]
  },
  {
   "cell_type": "code",
   "execution_count": null,
   "metadata": {},
   "outputs": [],
   "source": [
    "Country = oo['NOC']\n",
    "print(Country)\n",
    "type(Country)"
   ]
  },
  {
   "cell_type": "code",
   "execution_count": 59,
   "metadata": {},
   "outputs": [
    {
     "name": "stdout",
     "output_type": "stream",
     "text": [
      "       Edition     City               Athlete   Medal\n",
      "0         1896   Athens         HAJOS, Alfred    Gold\n",
      "1         1896   Athens      HERSCHMANN, Otto  Silver\n",
      "2         1896   Athens     DRIVAS, Dimitrios  Bronze\n",
      "3         1896   Athens    MALOKINIS, Ioannis    Gold\n",
      "4         1896   Athens    CHASAPIS, Spiridon  Silver\n",
      "...        ...      ...                   ...     ...\n",
      "29211     2008  Beijing        ENGLICH, Mirko  Silver\n",
      "29212     2008  Beijing  MIZGAITIS, Mindaugas  Bronze\n",
      "29213     2008  Beijing       PATRIKEEV, Yuri  Bronze\n",
      "29214     2008  Beijing         LOPEZ, Mijain    Gold\n",
      "29215     2008  Beijing        BAROEV, Khasan  Silver\n",
      "\n",
      "[29216 rows x 4 columns]\n"
     ]
    },
    {
     "data": {
      "text/plain": [
       "pandas.core.frame.DataFrame"
      ]
     },
     "execution_count": 59,
     "metadata": {},
     "output_type": "execute_result"
    }
   ],
   "source": [
    "ecam = oo[['Edition','City','Athlete','Medal']]\n",
    "print(ecam)\n",
    "type(ecam)"
   ]
  }
 ],
 "metadata": {
  "kernelspec": {
   "display_name": "Python 3 (ipykernel)",
   "language": "python",
   "name": "python3"
  },
  "language_info": {
   "codemirror_mode": {
    "name": "ipython",
    "version": 3
   },
   "file_extension": ".py",
   "mimetype": "text/x-python",
   "name": "python",
   "nbconvert_exporter": "python",
   "pygments_lexer": "ipython3",
   "version": "3.10.13"
  }
 },
 "nbformat": 4,
 "nbformat_minor": 2
}
