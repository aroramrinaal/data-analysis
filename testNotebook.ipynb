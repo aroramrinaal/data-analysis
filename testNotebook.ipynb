{
 "cells": [
  {
   "cell_type": "code",
   "execution_count": 4,
   "metadata": {},
   "outputs": [],
   "source": [
    "import pandas as pd\n",
    "oo = pd.read_csv('data/olympics.csv',skiprows=4)"
   ]
  },
  {
   "cell_type": "code",
   "execution_count": 5,
   "metadata": {},
   "outputs": [
    {
     "name": "stdout",
     "output_type": "stream",
     "text": [
      "['Aquatics' 'Athletics' 'Cycling' 'Fencing' 'Gymnastics' 'Shooting'\n",
      " 'Tennis' 'Weightlifting' 'Wrestling' 'Archery' 'Basque Pelota' 'Cricket'\n",
      " 'Croquet' 'Equestrian' 'Football' 'Golf' 'Polo' 'Rowing' 'Rugby'\n",
      " 'Sailing' 'Tug of War' 'Boxing' 'Lacrosse' 'Roque' 'Hockey'\n",
      " 'Jeu de paume' 'Rackets' 'Skating' 'Water Motorsports'\n",
      " 'Modern Pentathlon' 'Ice Hockey' 'Basketball' 'Canoe / Kayak' 'Handball'\n",
      " 'Judo' 'Volleyball' 'Table Tennis' 'Badminton' 'Baseball' 'Softball'\n",
      " 'Taekwondo' 'Triathlon']\n",
      "<class 'numpy.ndarray'>\n"
     ]
    }
   ],
   "source": [
    "sports = oo.Sport.unique()\n",
    "print(sports)\n",
    "print(type(sports))"
   ]
  },
  {
   "cell_type": "code",
   "execution_count": 6,
   "metadata": {},
   "outputs": [
    {
     "data": {
      "text/plain": [
       "Sport\n",
       "Aquatics             3828\n",
       "Athletics            3448\n",
       "Rowing               2523\n",
       "Gymnastics           2214\n",
       "Fencing              1547\n",
       "Football             1387\n",
       "Hockey               1325\n",
       "Wrestling            1140\n",
       "Shooting             1105\n",
       "Sailing              1061\n",
       "Cycling              1025\n",
       "Canoe / Kayak        1002\n",
       "Basketball            940\n",
       "Volleyball            910\n",
       "Equestrian            894\n",
       "Handball              886\n",
       "Boxing                842\n",
       "Weightlifting         548\n",
       "Judo                  435\n",
       "Baseball              335\n",
       "Archery               305\n",
       "Tennis                272\n",
       "Rugby                 192\n",
       "Softball              180\n",
       "Modern Pentathlon     174\n",
       "Badminton             120\n",
       "Table Tennis          120\n",
       "Tug of War             94\n",
       "Taekwondo              80\n",
       "Polo                   66\n",
       "Lacrosse               59\n",
       "Golf                   30\n",
       "Ice Hockey             27\n",
       "Skating                27\n",
       "Cricket                24\n",
       "Triathlon              18\n",
       "Rackets                10\n",
       "Croquet                 8\n",
       "Water Motorsports       5\n",
       "Basque Pelota           4\n",
       "Jeu de paume            3\n",
       "Roque                   3\n",
       "Name: count, dtype: int64"
      ]
     },
     "execution_count": 6,
     "metadata": {},
     "output_type": "execute_result"
    }
   ],
   "source": [
    "oo.Sport.value_counts()"
   ]
  }
 ],
 "metadata": {
  "kernelspec": {
   "display_name": "Python 3 (ipykernel)",
   "language": "python",
   "name": "python3"
  },
  "language_info": {
   "codemirror_mode": {
    "name": "ipython",
    "version": 3
   },
   "file_extension": ".py",
   "mimetype": "text/x-python",
   "name": "python",
   "nbconvert_exporter": "python",
   "pygments_lexer": "ipython3",
   "version": "3.10.13"
  }
 },
 "nbformat": 4,
 "nbformat_minor": 2
}
