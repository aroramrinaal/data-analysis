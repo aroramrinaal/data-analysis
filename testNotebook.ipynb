{
 "cells": [
  {
   "cell_type": "code",
   "execution_count": null,
   "metadata": {},
   "outputs": [],
   "source": [
    "import pandas as pd\n",
    "oo = pd.read_csv('data/olympics.csv',skiprows=4)\n",
    "oo.head()"
   ]
  },
  {
   "cell_type": "code",
   "execution_count": null,
   "metadata": {},
   "outputs": [],
   "source": [
    "jow = oo[(oo.Athlete=='OWENS, Jesse')].Event.unique()\n",
    "print(jow)"
   ]
  },
  {
   "cell_type": "code",
   "execution_count": null,
   "metadata": {},
   "outputs": [],
   "source": [
    "mgsb = oo[(oo.Sport == 'Badminton')&(oo.Gender == 'Men')&(oo.Event == 'singles')].value_counts('NOC').head(1)\n",
    "mgsb"
   ]
  },
  {
   "cell_type": "code",
   "execution_count": null,
   "metadata": {},
   "outputs": [],
   "source": [
    "wmmry = oo[(oo.Edition>=1984)].value_counts('NOC').head(3)\n",
    "wmmry"
   ]
  },
  {
   "cell_type": "code",
   "execution_count": null,
   "metadata": {},
   "outputs": [],
   "source": [
    "mght = oo[(oo.Gender == 'Men')&(oo.Medal == 'Gold')&(oo.Event == '100m')].sort_values(by='Edition',ascending=False)\n",
    "mght"
   ]
  }
 ],
 "metadata": {
  "kernelspec": {
   "display_name": "Python 3 (ipykernel)",
   "language": "python",
   "name": "python3"
  },
  "language_info": {
   "codemirror_mode": {
    "name": "ipython",
    "version": 3
   },
   "file_extension": ".py",
   "mimetype": "text/x-python",
   "name": "python",
   "nbconvert_exporter": "python",
   "pygments_lexer": "ipython3",
   "version": "3.10.13"
  }
 },
 "nbformat": 4,
 "nbformat_minor": 2
}
