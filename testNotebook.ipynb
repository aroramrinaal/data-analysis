{
 "cells": [
  {
   "cell_type": "code",
   "execution_count": 6,
   "metadata": {},
   "outputs": [
    {
     "name": "stdout",
     "output_type": "stream",
     "text": [
      "\n",
      "INSTALLED VERSIONS\n",
      "------------------\n",
      "commit              : a671b5a8bf5dd13fb19f0e88edc679bc9e15c673\n",
      "python              : 3.11.7.final.0\n",
      "python-bits         : 64\n",
      "OS                  : Darwin\n",
      "OS-release          : 23.0.0\n",
      "Version             : Darwin Kernel Version 23.0.0: Tue Aug 22 02:13:07 PDT 2023; root:xnu-10002.1.11~16/RELEASE_ARM64_T8103\n",
      "machine             : arm64\n",
      "processor           : arm\n",
      "byteorder           : little\n",
      "LC_ALL              : None\n",
      "LANG                : None\n",
      "LOCALE              : None.UTF-8\n",
      "\n",
      "pandas              : 2.1.4\n",
      "numpy               : 1.26.4\n",
      "pytz                : 2023.3.post1\n",
      "dateutil            : 2.8.2\n",
      "setuptools          : 68.2.2\n",
      "pip                 : 23.3.1\n",
      "Cython              : None\n",
      "pytest              : 7.4.0\n",
      "hypothesis          : None\n",
      "sphinx              : 5.0.2\n",
      "blosc               : None\n",
      "feather             : None\n",
      "xlsxwriter          : None\n",
      "lxml.etree          : 4.9.3\n",
      "html5lib            : None\n",
      "pymysql             : None\n",
      "psycopg2            : None\n",
      "jinja2              : 3.1.3\n",
      "IPython             : 8.20.0\n",
      "pandas_datareader   : None\n",
      "bs4                 : 4.12.2\n",
      "bottleneck          : 1.3.7\n",
      "dataframe-api-compat: None\n",
      "fastparquet         : None\n",
      "fsspec              : 2023.10.0\n",
      "gcsfs               : None\n",
      "matplotlib          : 3.8.0\n",
      "numba               : 0.59.0\n",
      "numexpr             : 2.8.7\n",
      "odfpy               : None\n",
      "openpyxl            : 3.0.10\n",
      "pandas_gbq          : None\n",
      "pyarrow             : 14.0.2\n",
      "pyreadstat          : None\n",
      "pyxlsb              : None\n",
      "s3fs                : 2023.10.0\n",
      "scipy               : 1.11.4\n",
      "sqlalchemy          : 2.0.25\n",
      "tables              : 3.9.2\n",
      "tabulate            : 0.9.0\n",
      "xarray              : 2023.6.0\n",
      "xlrd                : None\n",
      "zstandard           : 0.19.0\n",
      "tzdata              : 2023.3\n",
      "qtpy                : 2.4.1\n",
      "pyqt5               : None\n"
     ]
    }
   ],
   "source": [
    "import pandas as pd\n",
    "pd.show_versions()"
   ]
  }
 ],
 "metadata": {
  "kernelspec": {
   "display_name": "Python 3",
   "language": "python",
   "name": "python3"
  },
  "language_info": {
   "codemirror_mode": {
    "name": "ipython",
    "version": 3
   },
   "file_extension": ".py",
   "mimetype": "text/x-python",
   "name": "python",
   "nbconvert_exporter": "python",
   "pygments_lexer": "ipython3",
   "version": "3.11.7"
  }
 },
 "nbformat": 4,
 "nbformat_minor": 2
}
