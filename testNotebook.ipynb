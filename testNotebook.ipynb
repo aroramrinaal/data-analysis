{
 "cells": [
  {
   "cell_type": "code",
   "execution_count": null,
   "metadata": {},
   "outputs": [],
   "source": [
    "import pandas as pd\n",
    "oo = pd.read_csv('data/olympics.csv',skiprows=4)\n",
    "oo"
   ]
  },
  {
   "cell_type": "code",
   "execution_count": null,
   "metadata": {},
   "outputs": [],
   "source": [
    "jo = oo[oo.Athlete == 'OWENS, Jesse']\n",
    "joe = jo.Event.unique()\n",
    "joe"
   ]
  },
  {
   "cell_type": "code",
   "execution_count": null,
   "metadata": {},
   "outputs": [],
   "source": [
    "oo[(oo.Event.str.contains('singles')) & (oo.Sport.str.contains('Badminton')) & (oo.Medal.str.contains('Gold'))].sort_values(by=['Medal']).sort_values(by='Athlete')"
   ]
  },
  {
   "cell_type": "code",
   "execution_count": null,
   "metadata": {},
   "outputs": [],
   "source": [
    "oo[(oo.Gender == 'Men') & (oo.Medal == 'Gold') & (oo.Sport == \"Athletics\") & (oo.Event =='100m')].sort_values(by=['Edition'],ascending=False)"
   ]
  },
  {
   "cell_type": "code",
   "execution_count": null,
   "metadata": {},
   "outputs": [],
   "source": [
    "mminr = oo[oo.Edition >= 1984]\n",
    "mminr.NOC.value_counts().head(3)"
   ]
  },
  {
   "cell_type": "code",
   "execution_count": null,
   "metadata": {},
   "outputs": [],
   "source": [
    "gmh = oo[(oo.Gender == \"Men\") & (oo.Medal == 'Gold') & (oo.Event == '100m')]\n",
    "gmh.sort_values(by=['Edition'],ascending=False)[['City','Edition','Athlete','NOC']]"
   ]
  }
 ],
 "metadata": {
  "kernelspec": {
   "display_name": "Python 3 (ipykernel)",
   "language": "python",
   "name": "python3"
  },
  "language_info": {
   "codemirror_mode": {
    "name": "ipython",
    "version": 3
   },
   "file_extension": ".py",
   "mimetype": "text/x-python",
   "name": "python",
   "nbconvert_exporter": "python",
   "pygments_lexer": "ipython3",
   "version": "3.10.13"
  }
 },
 "nbformat": 4,
 "nbformat_minor": 2
}
